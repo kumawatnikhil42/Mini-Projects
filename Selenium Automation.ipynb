{
 "cells": [
  {
   "cell_type": "code",
   "execution_count": 1,
   "id": "5070b548",
   "metadata": {},
   "outputs": [],
   "source": [
    "# !pip install selenium==4.0.0.b4"
   ]
  },
  {
   "cell_type": "code",
   "execution_count": 2,
   "id": "3834e25b",
   "metadata": {},
   "outputs": [],
   "source": [
    "from selenium import webdriver\n",
    "from selenium.webdriver.chrome.service import Service\n",
    "from selenium.webdriver.common.keys import Keys\n",
    "import time"
   ]
  },
  {
   "cell_type": "code",
   "execution_count": 3,
   "id": "fbcecca1",
   "metadata": {},
   "outputs": [],
   "source": [
    "path=\"C:/Users/user/Selenium/chromedriver.exe\"\n",
    "s=Service(path)"
   ]
  },
  {
   "cell_type": "code",
   "execution_count": 4,
   "id": "d1358385",
   "metadata": {},
   "outputs": [],
   "source": [
    "driver=webdriver.Chrome(service=s)\n",
    "driver.get(\"https://www.google.com/\")\n",
    "time.sleep(2)"
   ]
  },
  {
   "cell_type": "code",
   "execution_count": 5,
   "id": "1d7284d4",
   "metadata": {},
   "outputs": [
    {
     "name": "stderr",
     "output_type": "stream",
     "text": [
      "C:\\Users\\user\\AppData\\Roaming\\Python\\Python311\\site-packages\\selenium\\webdriver\\remote\\webdriver.py:483: UserWarning: find_element_by_* commands are deprecated. Please use find_element() instead\n",
      "  warnings.warn(\"find_element_by_* commands are deprecated. Please use find_element() instead\")\n"
     ]
    }
   ],
   "source": [
    "time.sleep(3)\n",
    "box=driver.find_element_by_xpath(\"/html/body/div[1]/div[3]/form/div[1]/div[1]/div[1]/div/div[2]/textarea\")\n",
    "box.send_keys(\"House of the Dragon\")\n",
    "\n",
    "box.send_keys(Keys.ENTER)"
   ]
  },
  {
   "cell_type": "code",
   "execution_count": 6,
   "id": "f3f6ddd4",
   "metadata": {},
   "outputs": [],
   "source": [
    "time.sleep(3)\n",
    "driver.find_element_by_xpath(\"\"\"//*[@id=\"kp-wp-tab-overview\"]/div[5]/div/div/div/div/div/div[1]/div/div/span/a\"\"\").click()"
   ]
  },
  {
   "cell_type": "code",
   "execution_count": 7,
   "id": "47787cce",
   "metadata": {},
   "outputs": [],
   "source": [
    "# driver.save_screenshot(\"C:/Users/user/Selenium/house.png\")"
   ]
  },
  {
   "cell_type": "code",
   "execution_count": null,
   "id": "93414114",
   "metadata": {},
   "outputs": [],
   "source": []
  }
 ],
 "metadata": {
  "kernelspec": {
   "display_name": "Python 3 (ipykernel)",
   "language": "python",
   "name": "python3"
  },
  "language_info": {
   "codemirror_mode": {
    "name": "ipython",
    "version": 3
   },
   "file_extension": ".py",
   "mimetype": "text/x-python",
   "name": "python",
   "nbconvert_exporter": "python",
   "pygments_lexer": "ipython3",
   "version": "3.11.5"
  }
 },
 "nbformat": 4,
 "nbformat_minor": 5
}
